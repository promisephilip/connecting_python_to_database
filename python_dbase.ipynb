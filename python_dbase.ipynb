{
 "cells": [
  {
   "cell_type": "code",
   "execution_count": 23,
   "id": "60b48f30",
   "metadata": {},
   "outputs": [
    {
     "name": "stdout",
     "output_type": "stream",
     "text": [
      "Connected to MySQL Server version  8.0.21\n",
      "You're connected to database:  ('promise',)\n",
      "MySQL connection is closed\n"
     ]
    }
   ],
   "source": [
    "import mysql.connector\n",
    "from mysql.connector import Error\n",
    "\n",
    "try:\n",
    "    connection = mysql.connector.connect(host='localhost',\n",
    "                                         database='promise',\n",
    "                                         user='root',\n",
    "                                         password='')\n",
    "    if connection.is_connected():\n",
    "        db_Info = connection.get_server_info()\n",
    "        print(\"Connected to MySQL Server version \", db_Info)\n",
    "        cursor = connection.cursor()\n",
    "        cursor.execute(\"select database();\")\n",
    "        record = cursor.fetchone()\n",
    "        print(\"You're connected to database: \", record)\n",
    "\n",
    "except Error as e:\n",
    "    print(\"Error while connecting to MySQL\", e)\n",
    "    \n",
    "finally:\n",
    "    if connection.is_connected():\n",
    "        cursor.close()\n",
    "        connection.close()\n",
    "        print(\"MySQL connection is closed\")"
   ]
  },
  {
   "cell_type": "code",
   "execution_count": 26,
   "id": "b72afc00",
   "metadata": {},
   "outputs": [
    {
     "name": "stdout",
     "output_type": "stream",
     "text": [
      "Laptop Table created successfully \n",
      "MySQL connection is closed\n"
     ]
    }
   ],
   "source": [
    "import mysql.connector\n",
    "\n",
    "try:\n",
    "    connection = mysql.connector.connect(host='localhost',\n",
    "                                         database='promise',\n",
    "                                         user='root',\n",
    "                                         password='')\n",
    "\n",
    "    mySql_Create_Table_Query = \"\"\"CREATE TABLE Laptop ( \n",
    "                             Id int(11) NOT NULL,\n",
    "                             Name varchar(250) NOT NULL,\n",
    "                             Price float NOT NULL,\n",
    "                             Purchase_date Date NOT NULL,\n",
    "                             PRIMARY KEY (Id)) \"\"\"\n",
    "\n",
    "    cursor = connection.cursor()\n",
    "    result = cursor.execute(mySql_Create_Table_Query)\n",
    "    print(\"Laptop Table created successfully \")\n",
    "\n",
    "except mysql.connector.Error as error:\n",
    "    print(\"Failed to create table in MySQL: {}\".format(error))\n",
    "finally:\n",
    "    if connection.is_connected():\n",
    "        cursor.close()\n",
    "        connection.close()\n",
    "        print(\"MySQL connection is closed\")"
   ]
  },
  {
   "cell_type": "code",
   "execution_count": 27,
   "id": "61fa45df",
   "metadata": {},
   "outputs": [
    {
     "name": "stdout",
     "output_type": "stream",
     "text": [
      "1 Record inserted successfully into Laptop table\n",
      "MySQL connection is closed\n"
     ]
    }
   ],
   "source": [
    "import mysql.connector\n",
    "\n",
    "try:\n",
    "    connection = mysql.connector.connect(host='localhost',\n",
    "                                         database='promise',\n",
    "                                         user='root',\n",
    "                                         password='')\n",
    "\n",
    "    mySql_insert_query = \"\"\"INSERT INTO Laptop (Id, Name, Price, Purchase_date) \n",
    "                           VALUES \n",
    "                           (15, 'Lenovo ThinkPad P71', 6459, '2019-08-14') \"\"\"\n",
    "\n",
    "    cursor = connection.cursor()\n",
    "    cursor.execute(mySql_insert_query)\n",
    "    connection.commit()\n",
    "    print(cursor.rowcount, \"Record inserted successfully into Laptop table\")\n",
    "    cursor.close()\n",
    "\n",
    "except mysql.connector.Error as error:\n",
    "    print(\"Failed to insert record into Laptop table {}\".format(error))\n",
    "\n",
    "finally:\n",
    "    if connection.is_connected():\n",
    "        connection.close()\n",
    "        print(\"MySQL connection is closed\")"
   ]
  },
  {
   "cell_type": "code",
   "execution_count": 28,
   "id": "fc7ff0c1",
   "metadata": {},
   "outputs": [
    {
     "name": "stdout",
     "output_type": "stream",
     "text": [
      "Record inserted successfully into Laptop table\n",
      "MySQL connection is closed\n",
      "Record inserted successfully into Laptop table\n",
      "MySQL connection is closed\n"
     ]
    }
   ],
   "source": [
    "import mysql.connector\n",
    "\n",
    "def insert_varibles_into_table(id, name, price, purchase_date):\n",
    "    try:\n",
    "        connection = mysql.connector.connect(host='localhost',\n",
    "                                             database='promise',\n",
    "                                             user='root',\n",
    "                                             password='')\n",
    "        cursor = connection.cursor()\n",
    "        mySql_insert_query = \"\"\"INSERT INTO Laptop (Id, Name, Price, Purchase_date) \n",
    "                                VALUES (%s, %s, %s, %s) \"\"\"\n",
    "\n",
    "        record = (id, name, price, purchase_date)\n",
    "        cursor.execute(mySql_insert_query, record)\n",
    "        connection.commit()\n",
    "        print(\"Record inserted successfully into Laptop table\")\n",
    "\n",
    "    except mysql.connector.Error as error:\n",
    "        print(\"Failed to insert into MySQL table {}\".format(error))\n",
    "\n",
    "    finally:\n",
    "        if connection.is_connected():\n",
    "            cursor.close()\n",
    "            connection.close()\n",
    "            print(\"MySQL connection is closed\")\n",
    "\n",
    "\n",
    "insert_varibles_into_table(2, 'Area 51M', 6999, '2019-04-14')\n",
    "insert_varibles_into_table(3, 'MacBook Pro', 2499, '2019-06-20')"
   ]
  },
  {
   "cell_type": "code",
   "execution_count": 29,
   "id": "36a4b249",
   "metadata": {},
   "outputs": [
    {
     "name": "stdout",
     "output_type": "stream",
     "text": [
      "Total number of rows in table:  3\n",
      "\n",
      "Printing each row\n",
      "Id =  15\n",
      "Name =  Lenovo ThinkPad P71\n",
      "Price  =  6459.0\n",
      "Purchase date  =  2019-08-14 \n",
      "\n",
      "Id =  2\n",
      "Name =  Area 51M\n",
      "Price  =  6999.0\n",
      "Purchase date  =  2019-04-14 \n",
      "\n",
      "Id =  3\n",
      "Name =  MacBook Pro\n",
      "Price  =  2499.0\n",
      "Purchase date  =  2019-06-20 \n",
      "\n",
      "MySQL connection is closed\n"
     ]
    }
   ],
   "source": [
    "import mysql.connector\n",
    "\n",
    "try:\n",
    "    connection = mysql.connector.connect(host='localhost',\n",
    "                                         database='promise',\n",
    "                                         user='root',\n",
    "                                         password='')\n",
    "\n",
    "    sql_select_Query = \"select * from Laptop\"\n",
    "    cursor = connection.cursor()\n",
    "    cursor.execute(sql_select_Query)\n",
    "    # get all records\n",
    "    records = cursor.fetchall()\n",
    "    print(\"Total number of rows in table: \", cursor.rowcount)\n",
    "\n",
    "    print(\"\\nPrinting each row\")\n",
    "    for row in records:\n",
    "        print(\"Id = \", row[0], )\n",
    "        print(\"Name = \", row[1])\n",
    "        print(\"Price  = \", row[2])\n",
    "        print(\"Purchase date  = \", row[3], \"\\n\")\n",
    "\n",
    "except mysql.connector.Error as e:\n",
    "    print(\"Error reading data from MySQL table\", e)\n",
    "finally:\n",
    "    if connection.is_connected():\n",
    "        connection.close()\n",
    "        cursor.close()\n",
    "        print(\"MySQL connection is closed\")"
   ]
  },
  {
   "cell_type": "code",
   "execution_count": 30,
   "id": "28811c7a",
   "metadata": {},
   "outputs": [
    {
     "name": "stdout",
     "output_type": "stream",
     "text": [
      "MySQL connection is closed\n",
      "Id =  2\n",
      "Name =  Area 51M\n",
      "Join Date =  6999.0\n",
      "Salary  =  2019-04-14 \n",
      "\n",
      "MySQL connection is closed\n"
     ]
    }
   ],
   "source": [
    "import mysql.connector\n",
    "\n",
    "def get_laptop_detail(id):\n",
    "    try:\n",
    "        connection = mysql.connector.connect(host='localhost',\n",
    "                                             database='promise',\n",
    "                                             user='root',\n",
    "                                             password='')\n",
    "\n",
    "        cursor = connection.cursor()\n",
    "        sql_select_query = \"\"\"select * from laptop where id = %s\"\"\"\n",
    "        # set variable in query\n",
    "        cursor.execute(sql_select_query, (id,))\n",
    "        # fetch result\n",
    "        record = cursor.fetchall()\n",
    "\n",
    "        for row in record:\n",
    "            print(\"Id = \", row[0], )\n",
    "            print(\"Name = \", row[1])\n",
    "            print(\"Join Date = \", row[2])\n",
    "            print(\"Salary  = \", row[3], \"\\n\")\n",
    "\n",
    "    except mysql.connector.Error as error:\n",
    "        print(\"Failed to get record from MySQL table: {}\".format(error))\n",
    "\n",
    "    finally:\n",
    "        if connection.is_connected():\n",
    "            cursor.close()\n",
    "            connection.close()\n",
    "            print(\"MySQL connection is closed\")\n",
    "\n",
    "get_laptop_detail(1)\n",
    "get_laptop_detail(2)"
   ]
  },
  {
   "cell_type": "code",
   "execution_count": 31,
   "id": "6f6654e4",
   "metadata": {},
   "outputs": [
    {
     "name": "stdout",
     "output_type": "stream",
     "text": [
      "Before updating a record \n",
      "None\n",
      "Record Updated successfully \n",
      "After updating record \n",
      "None\n",
      "MySQL connection is closed\n"
     ]
    }
   ],
   "source": [
    "import mysql.connector\n",
    "\n",
    "try:\n",
    "    connection = mysql.connector.connect(host='localhost',\n",
    "                                         database='promise',\n",
    "                                         user='root',\n",
    "                                         password='')\n",
    "    cursor = connection.cursor()\n",
    "\n",
    "    print(\"Before updating a record \")\n",
    "    sql_select_query = \"\"\"select * from Laptop where id = 1\"\"\"\n",
    "    cursor.execute(sql_select_query)\n",
    "    record = cursor.fetchone()\n",
    "    print(record)\n",
    "\n",
    "    # Update single record now\n",
    "    sql_update_query = \"\"\"Update Laptop set Price = 7000 where id = 1\"\"\"\n",
    "    cursor.execute(sql_update_query)\n",
    "    connection.commit()\n",
    "    print(\"Record Updated successfully \")\n",
    "\n",
    "    print(\"After updating record \")\n",
    "    cursor.execute(sql_select_query)\n",
    "    record = cursor.fetchone()\n",
    "    print(record)\n",
    "\n",
    "except mysql.connector.Error as error:\n",
    "    print(\"Failed to update table record: {}\".format(error))\n",
    "finally:\n",
    "    if connection.is_connected():\n",
    "        connection.close()\n",
    "        print(\"MySQL connection is closed\")"
   ]
  },
  {
   "cell_type": "code",
   "execution_count": 32,
   "id": "57ed67ff",
   "metadata": {},
   "outputs": [
    {
     "name": "stdout",
     "output_type": "stream",
     "text": [
      "Laptop table before deleting a row\n",
      "None\n",
      "number of rows deleted 0\n",
      "Record Deleted successfully \n",
      "MySQL connection is closed\n"
     ]
    }
   ],
   "source": [
    "import mysql.connector\n",
    "\n",
    "try:\n",
    "    connection = mysql.connector.connect(host='localhost',\n",
    "                                         database='promise',\n",
    "                                         user='root',\n",
    "                                         password='')\n",
    "    cursor = connection.cursor()\n",
    "    print(\"Laptop table before deleting a row\")\n",
    "    sql_select_query = \"\"\"select * from Laptop where id = 7\"\"\"\n",
    "    cursor.execute(sql_select_query)\n",
    "    record = cursor.fetchone()\n",
    "    print(record)\n",
    "\n",
    "    # Delete a record\n",
    "    sql_Delete_query = \"\"\"Delete from Laptop where id = 7\"\"\"\n",
    "    cursor.execute(sql_Delete_query)\n",
    "    connection.commit()\n",
    "    print('number of rows deleted', cursor.rowcount)\n",
    "\n",
    "    # Verify using select query (optional)\n",
    "    cursor.execute(sql_select_query)\n",
    "    records = cursor.fetchall()\n",
    "    if len(records) == 0:\n",
    "        print(\"Record Deleted successfully \")\n",
    "\n",
    "except mysql.connector.Error as error:\n",
    "    print(\"Failed to delete record from table: {}\".format(error))\n",
    "finally:\n",
    "    if connection.is_connected():\n",
    "        cursor.close()\n",
    "        connection.close()\n",
    "        print(\"MySQL connection is closed\")"
   ]
  },
  {
   "cell_type": "code",
   "execution_count": null,
   "id": "77754d10",
   "metadata": {},
   "outputs": [],
   "source": []
  }
 ],
 "metadata": {
  "kernelspec": {
   "display_name": "Python 3",
   "language": "python",
   "name": "python3"
  },
  "language_info": {
   "codemirror_mode": {
    "name": "ipython",
    "version": 3
   },
   "file_extension": ".py",
   "mimetype": "text/x-python",
   "name": "python",
   "nbconvert_exporter": "python",
   "pygments_lexer": "ipython3",
   "version": "3.8.8"
  }
 },
 "nbformat": 4,
 "nbformat_minor": 5
}
